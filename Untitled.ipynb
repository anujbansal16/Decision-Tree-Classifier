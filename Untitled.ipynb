{
 "cells": [
  {
   "cell_type": "code",
   "execution_count": 79,
   "metadata": {},
   "outputs": [
    {
     "data": {
      "text/plain": [
       "0    0.761968\n",
       "1    0.238032\n",
       "Name: left, dtype: float64"
      ]
     },
     "execution_count": 79,
     "metadata": {},
     "output_type": "execute_result"
    }
   ],
   "source": [
    "import pandas as pd\n",
    "import numpy as np\n",
    "train=pd.read_csv(\"Ass1/decision_Tree/train.csv\")\n",
    "data1=pd.DataFrame(train)\n",
    "# nans = train.shape[0] - train.dropna().shape[0]\n",
    "# print (\"%d rows have missing values in the train data\" %nans)\n",
    "\n",
    "#columns have missing values\n",
    "# train.isnull().sum()\n",
    "\n",
    "train.left.value_counts()/train.shape[0]\n",
    "# data.head()\n",
    "# data1\n",
    "# bins=[0,0.2,0.4,0.6,0.8,1]\n",
    "# bins\n",
    "# cats=pd.cut(data1[\"last_evaluation\"],bins)\n",
    "# cats\n",
    "# data1[\"satisfaction_level\"]=cats\n",
    "# data1"
   ]
  },
  {
   "cell_type": "markdown",
   "metadata": {},
   "source": [
    "> Figures\n",
    "\n",
    "> adding axes\n",
    "\n",
    "> subplots\n",
    "\n",
    "> diffrent plots"
   ]
  },
  {
   "cell_type": "code",
   "execution_count": 9,
   "metadata": {},
   "outputs": [],
   "source": [
    "import matplotlib as mpl"
   ]
  },
  {
   "cell_type": "markdown",
   "metadata": {},
   "source": [
    "> Pardon my French"
   ]
  }
 ],
 "metadata": {
  "kernelspec": {
   "display_name": "Python 3",
   "language": "python",
   "name": "python3"
  },
  "language_info": {
   "codemirror_mode": {
    "name": "ipython",
    "version": 3
   },
   "file_extension": ".py",
   "mimetype": "text/x-python",
   "name": "python",
   "nbconvert_exporter": "python",
   "pygments_lexer": "ipython3",
   "version": "3.7.1"
  }
 },
 "nbformat": 4,
 "nbformat_minor": 2
}
