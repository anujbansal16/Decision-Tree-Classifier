{
 "cells": [
  {
   "cell_type": "code",
   "execution_count": 3,
   "metadata": {},
   "outputs": [],
   "source": [
    "#import necessary packages\n",
    "import pandas as pd\n",
    "import numpy as np\n"
   ]
  },
  {
   "cell_type": "code",
   "execution_count": 5,
   "metadata": {},
   "outputs": [],
   "source": [
    "#read csv\n",
    "data=pd.read_csv(\"train.csv\")\n",
    "target='left'\n",
    "features=[feature for feature in list(data.columns.values) if feature!=target]\n",
    "cFeatures=['Work_accident','promotion_last_5years','sales','salary']\n",
    "nFeatures=['satisfaction_level','last_evaluation','number_project','average_montly_hours','time_spend_company']\n",
    "# print([(feature,np.unique(data[feature])) for feature in features])"
   ]
  },
  {
   "cell_type": "code",
   "execution_count": 6,
   "metadata": {},
   "outputs": [
    {
     "data": {
      "text/plain": [
       "1.0"
      ]
     },
     "execution_count": 6,
     "metadata": {},
     "output_type": "execute_result"
    }
   ],
   "source": [
    "def entropy(q):\n",
    "    e=0\n",
    "    if q:\n",
    "        e=(-q*np.log2(q))\n",
    "    if 1-q:\n",
    "        e+=(-(1-q)*np.log2(1-q))\n",
    "    return e\n",
    "#     return -(q*np.log2(q)+(1-q)*np.log2(1-q))\n",
    "def gini(q):\n",
    "    return 2*q*(1-q)\n",
    "def misClass(q):\n",
    "    return min(q,1-q)\n",
    "entropy(0.5)"
   ]
  },
  {
   "cell_type": "code",
   "execution_count": 7,
   "metadata": {
    "scrolled": true
   },
   "outputs": [
    {
     "name": "stdout",
     "output_type": "stream",
     "text": [
      "0.020887530533461263\n"
     ]
    }
   ],
   "source": [
    "#return the information gain of current Attribute with impurity type(entrop/gini/misclass) relative to target attribute\n",
    "def infoGain(data,currentAttr,impType,targetAttr=\"left\"):\n",
    "#     print(data.shape[0],data.shape[1])\n",
    "    totalRows=data.shape[0]\n",
    "    \n",
    "#     print(\"Target labels and target labels count\")\n",
    "#     print(np.unique(data[targetAttr],return_counts=True))\n",
    "#     print()\n",
    "    \n",
    "    targetValues, targetValuesCount=np.unique(data[targetAttr],return_counts=True)\n",
    "    currentValues, currentValuesCount=np.unique(data[currentAttr],return_counts=True)\n",
    "#     print(targetValues,targetValuesCount,currentValues, currentValuesCount)\n",
    "    \n",
    "    #q is no employee will stay\n",
    "    targetEntropy=impType(targetValuesCount[0]/(totalRows))\n",
    "#     print(\"targetEntropy= \",targetEntropy)\n",
    "\n",
    "    #(Si/S)*(entropy(target(=0)/Si)),(Si/S)*(entropy(target(=1)/Si)),.......\n",
    "    temp=[(currentValuesCount[j]/totalRows)*impType(np.unique(data.where(data[currentAttr]==i).dropna()[targetAttr],return_counts=True)[1][0]/currentValuesCount[j]) for j,i in enumerate(currentValues)]\n",
    "#     print(temp)\n",
    "    \n",
    "    weightedEntropy=np.sum(temp)\n",
    "    informationGain=targetEntropy-weightedEntropy\n",
    "#     print(\"informationGain= \",informationGain)\n",
    "    return informationGain\n",
    "print(infoGain(data,'salary',entropy))\n",
    "# print(np.max([infoGain(data,feature,entropy) for feature in cFeatures]))"
   ]
  },
  {
   "cell_type": "code",
   "execution_count": 8,
   "metadata": {},
   "outputs": [
    {
     "data": {
      "text/plain": [
       "'salary'"
      ]
     },
     "execution_count": 8,
     "metadata": {},
     "output_type": "execute_result"
    }
   ],
   "source": [
    "def bestInfoGainFeature(data,cFeatures,impType,targetAttr=\"left\"):\n",
    "    #info gains for categorical attributes    \n",
    "    featureIndex=np.argmax([infoGain(data,feature,impType) for feature in cFeatures])\n",
    "    bestFeature=cFeatures[featureIndex]\n",
    "    return bestFeature\n",
    "bestInfoGainFeature(data,cFeatures,entropy)"
   ]
  },
  {
   "cell_type": "code",
   "execution_count": 12,
   "metadata": {},
   "outputs": [
    {
     "name": "stdout",
     "output_type": "stream",
     "text": [
      "0.0\n",
      "0.0\n",
      "0.0\n",
      "0.0\n",
      "0.0\n",
      "0.0\n",
      "0.0\n",
      "0.0\n",
      "0.0\n",
      "0.0\n",
      "0.0\n",
      "0.0\n",
      "0.0\n",
      "0.0\n",
      "0.0\n",
      "0.0\n",
      "0.0\n",
      "0.0\n",
      "0.0\n",
      "0.0\n",
      "0.0\n",
      "0.0\n",
      "0.0\n",
      "0.0\n",
      "0.0\n",
      "0.0\n",
      "0.0\n",
      "0.0\n",
      "0.0\n",
      "0.0\n",
      "0.0\n",
      "0.0\n",
      "0.0\n",
      "0.0\n",
      "0.0\n",
      "0.0\n",
      "0.0\n",
      "0.0\n",
      "0.0\n",
      "0.0\n",
      "0.0\n",
      "0.0\n",
      "0.0\n",
      "0.0\n",
      "0.0\n",
      "0.0\n",
      "0.0\n",
      "0.0\n",
      "0.0\n",
      "0.0\n",
      "0.0\n",
      "0.0\n",
      "0.0\n",
      "0.0\n",
      "0.0\n",
      "0.0\n",
      "0.0\n",
      "0.0\n",
      "0.0\n",
      "0.0\n",
      "0.0\n",
      "0.0\n",
      "0.0\n",
      "0.0\n",
      "0.0\n",
      "0.0\n",
      "0.0\n",
      "0.0\n",
      "0.0\n",
      "0.0\n",
      "0.0\n",
      "0.0\n",
      "0.0\n",
      "0.0\n",
      "0.0\n",
      "0.0\n",
      "0.0\n",
      "0.0\n",
      "0.0\n",
      "0.0\n",
      "0.0\n",
      "0.0\n",
      "0.0\n",
      "0.0\n",
      "0.0\n",
      "0.0\n",
      "0.0\n",
      "0.0\n",
      "0.0\n",
      "0.0\n",
      "0.0\n",
      "0.0\n",
      "0.0\n",
      "0.0\n",
      "0.0\n",
      "0.0\n",
      "0.0\n",
      "0.0\n",
      "0.0\n",
      "0.0\n",
      "0.0\n",
      "0.0\n",
      "0.0\n",
      "0.0\n",
      "0.0\n",
      "0.0\n",
      "0.0\n",
      "0.0\n",
      "0.0\n",
      "0.0\n",
      "0.0\n",
      "0.0\n",
      "0.0\n",
      "0.0\n",
      "0.0\n",
      "0.0\n"
     ]
    }
   ],
   "source": [
    "def buildTree(filterdData,cFeatures,targetAttr=\"left\"):\n",
    "    #check if data is pure i.e all tuples have exact 1 type of label\n",
    "    if(len(np.unique(filterdData[targetAttr]))<=1):\n",
    "        print(\"hello= \",np.unique(filterdData[targetAttr])[0])\n",
    "        print(filterdData)\n",
    "        print(cFeatures)\n",
    "        return np.unique(filterdData[targetAttr])[0]\n",
    "    #check if all the categorical attributes had been used\n",
    "    elif(len(cFeatures)==0):\n",
    "        values,count=np.unique(filterdData[targetAttr],return_counts=True)\n",
    "        print(values[np.argmax(count)])\n",
    "        return values[np.argmax(count)]\n",
    "    #else grow the tree for all possible value of best feature\n",
    "    #threby filtering the data on that value of best feature\n",
    "    else:\n",
    "        #find best feature\n",
    "        #remove best feature from local list of features(cFeatures) for now\n",
    "        #create a node with best feature and return it at the end\n",
    "        #execute a for loop for all possible value of best feature (filtering on this value), and create a branch on\n",
    "            #this value [best][value1] and receive the result of recursive call on this filtered data      \n",
    "        bestF=bestInfoGainFeature(filterdData,cFeatures, entropy)\n",
    "        node={bestF:{}}\n",
    "        cFeatures=[feature for feature in cFeatures if feature!=bestF]\n",
    "        for value in np.unique(filterdData[bestF]):\n",
    "            #filter new datatable based on best feature [value]\n",
    "#             print(bestF, value)\n",
    "            filteredData=data.where(data[bestF]==value).dropna()\n",
    "            node[bestF][value]=buildTree(filteredData,cFeatures)\n",
    "        \n",
    "    return node\n",
    "    \n",
    "tree=buildTree(data,cFeatures)\n",
    "\n"
   ]
  },
  {
   "cell_type": "code",
   "execution_count": 13,
   "metadata": {},
   "outputs": [],
   "source": [
    "# print(tree)"
   ]
  }
 ],
 "metadata": {
  "kernelspec": {
   "display_name": "Python 3",
   "language": "python",
   "name": "python3"
  },
  "language_info": {
   "codemirror_mode": {
    "name": "ipython",
    "version": 3
   },
   "file_extension": ".py",
   "mimetype": "text/x-python",
   "name": "python",
   "nbconvert_exporter": "python",
   "pygments_lexer": "ipython3",
   "version": "3.7.1"
  }
 },
 "nbformat": 4,
 "nbformat_minor": 2
}
