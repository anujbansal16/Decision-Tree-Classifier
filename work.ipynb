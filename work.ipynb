{
 "cells": [
  {
   "cell_type": "code",
   "execution_count": 2,
   "metadata": {},
   "outputs": [],
   "source": [
    "#import necessary packages\n",
    "import pandas as pd\n",
    "import numpy as np\n"
   ]
  },
  {
   "cell_type": "code",
   "execution_count": 69,
   "metadata": {},
   "outputs": [],
   "source": [
    "#read csv\n",
    "data=pd.read_csv(\"train.csv\")"
   ]
  },
  {
   "cell_type": "code",
   "execution_count": 110,
   "metadata": {},
   "outputs": [
    {
     "data": {
      "text/plain": [
       "1.0"
      ]
     },
     "execution_count": 110,
     "metadata": {},
     "output_type": "execute_result"
    }
   ],
   "source": [
    "def entropy(q):\n",
    "    return -(q*np.log2(q)+(1-q)*np.log2(q))\n",
    "def gini(q):\n",
    "    return 2*q*(1-q)\n",
    "def misClass(q):\n",
    "    return min(q,1-q)\n",
    "entropy(1/2)"
   ]
  },
  {
   "cell_type": "code",
   "execution_count": 134,
   "metadata": {
    "scrolled": true
   },
   "outputs": [
    {
     "name": "stdout",
     "output_type": "stream",
     "text": [
      "11238 10\n",
      "Target labels and target labels count\n",
      "(array([0, 1], dtype=int64), array([8563, 2675]))\n",
      "\n",
      "[0 1] [8563 2675] [2 3 4 5 6 7] [1770 3034 3265 2084  887  198]\n",
      "targetEntropy=  0.39219707483530775\n",
      "[0. 1.] [ 591 1179] [2 3 4 5 6 7] [1770 3034 3265 2084  887  198]\n",
      "[0.24924890593373414, 0.007256257721250102, 0.03884660431470119, 0.06573618300636969, 0.09415218900383177, -0.0]\n",
      "informationGain=  -0.06304306514457914\n"
     ]
    }
   ],
   "source": [
    "def infoGain(data,currentAttr,targetAttr=\"left\"):\n",
    "    print(data.shape[0],data.shape[1])\n",
    "    totalRows=data.shape[0];\n",
    "    print(\"Target labels and target labels count\")\n",
    "    print(np.unique(data[targetAttr],return_counts=True))\n",
    "    print()\n",
    "    targetValues, targetValuesCount=np.unique(data[targetAttr],return_counts=True)\n",
    "    currentValues, currentValuesCount=np.unique(data[currentAttr],return_counts=True)\n",
    "    print(targetValues,targetValuesCount,currentValues, currentValuesCount)\n",
    "    #q is no employee will stay\n",
    "    targetEntropy=entropy(targetValuesCount[0]/np.sum(totalRows))\n",
    "    print(\"targetEntropy= \",targetEntropy)\n",
    "    targetValues, targetValuesCount=np.unique(data.where(data[currentAttr]==2).dropna()[targetAttr],return_counts=True)\n",
    "    print(targetValues,targetValuesCount,currentValues, currentValuesCount)\n",
    "    #(Si/S)*(entropy(target(=0)/Si)),(Si/S)*(entropy(target(=0)/Si)),.......\n",
    "    temp=[(currentValuesCount[j]/totalRows)*entropy(np.unique(data.where(data[currentAttr]==i).dropna()[targetAttr],return_counts=True)[1][0]/currentValuesCount[j]) for j,i in enumerate(currentValues)]\n",
    "    print(temp)\n",
    "    weightedEntropy=np.sum(temp)\n",
    "    informationGain=targetEntropy-weightedEntropy\n",
    "    print(\"informationGain= \",informationGain)\n",
    "#     targetEntropy=\n",
    "infoGain(data,\"number_project\")"
   ]
  }
 ],
 "metadata": {
  "kernelspec": {
   "display_name": "Python 3",
   "language": "python",
   "name": "python3"
  },
  "language_info": {
   "codemirror_mode": {
    "name": "ipython",
    "version": 3
   },
   "file_extension": ".py",
   "mimetype": "text/x-python",
   "name": "python",
   "nbconvert_exporter": "python",
   "pygments_lexer": "ipython3",
   "version": "3.7.1"
  }
 },
 "nbformat": 4,
 "nbformat_minor": 2
}
