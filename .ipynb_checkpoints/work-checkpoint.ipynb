{
 "cells": [
  {
   "cell_type": "markdown",
   "metadata": {},
   "source": [
    "# Index:\n",
    "* **[Configure Attributes](#section0)**\n",
    "* **[Training and Prediction (Categorical) ](#section22)**\n",
    "* **[Training and Prediction (Numerical) ](#section32)**\n",
    "\n",
    "\n",
    "* [Utility functions common for both part](#section1)\n",
    "* [Part-1 : Training on catergorical data](#section2)\n",
    "    - [Algorithm](#section21)\n",
    "    - [Training and Prediction](#section22)\n",
    "* [Part-2: Training with categorical and numerical features.](#section3)\n",
    "    - [Algorithm](#section31)\n",
    "    - [Training and Prediction](#section32)\n"
   ]
  },
  {
   "cell_type": "markdown",
   "metadata": {},
   "source": [
    "# <a style=\"text-decoration:none;color:#000\" id=\"section0\">Configure Attributes</a>"
   ]
  },
  {
   "cell_type": "code",
   "execution_count": 207,
   "metadata": {},
   "outputs": [],
   "source": [
    "#Provide the column names of categorical attributes\n",
    "cFeatures=['Work_accident','promotion_last_5years','sales','salary']\n",
    "\n",
    "#Provide the column names of numerical attributes\n",
    "nFeatures=['satisfaction_level','last_evaluation','number_project','average_montly_hours','time_spend_company']"
   ]
  },
  {
   "cell_type": "markdown",
   "metadata": {},
   "source": [
    "# <a style=\"text-decoration:none;color:#000\" id=\"section1\">Utility functions common for both part</a>"
   ]
  },
  {
   "cell_type": "code",
   "execution_count": 208,
   "metadata": {},
   "outputs": [],
   "source": [
    "#import necessary packages\n",
    "import pandas as pd\n",
    "import numpy as np"
   ]
  },
  {
   "cell_type": "code",
   "execution_count": 209,
   "metadata": {},
   "outputs": [],
   "source": [
    "#function to calculate intrinsic value\n",
    "def intrinsicCal(q):\n",
    "    if q :\n",
    "        return -q*np.log2(q)\n",
    "    return 0"
   ]
  },
  {
   "cell_type": "code",
   "execution_count": 210,
   "metadata": {
    "scrolled": true
   },
   "outputs": [
    {
     "data": {
      "text/plain": [
       "1.0"
      ]
     },
     "execution_count": 210,
     "metadata": {},
     "output_type": "execute_result"
    }
   ],
   "source": [
    "#function to calculate entropy i.e. -(qlogq+(1-q)log(1-q))\n",
    "def entropy(q) :\n",
    "    if q >= 1 or q <= 0:\n",
    "        return 0\n",
    "    return -( q*np.log2(q) + (1-q)*np.log2(1-q) )\n",
    "entropy(0.5)"
   ]
  },
  {
   "cell_type": "code",
   "execution_count": 211,
   "metadata": {},
   "outputs": [],
   "source": [
    "#function to calculate Gini value i.e. 2q(1-q)\n",
    "def gini(q) :\n",
    "    return 2*q*(1-q)"
   ]
  },
  {
   "cell_type": "code",
   "execution_count": 212,
   "metadata": {},
   "outputs": [],
   "source": [
    "#function to calculate Misclassification rate i.e. min(q,1-q)\n",
    "def misClass(q) :\n",
    "    return min(q,1-q)"
   ]
  },
  {
   "cell_type": "code",
   "execution_count": 213,
   "metadata": {
    "scrolled": true
   },
   "outputs": [],
   "source": [
    "#Function to calculate information gain\n",
    "#Parameters :\n",
    "    # data = Training Data\n",
    "    # currentAttr = Categorical Attribute on which information Gain is calculated\n",
    "    # impType = Impurity type (entropy | gini | misClass) used to calculate information gain\n",
    "    # targetAttr = Target Attribute (Class Label) default is \"left\" column\n",
    "#Return :\n",
    "    # Return the information gain of current Attribute with impurity type(entrop/gini/misclass) relative to target attribute\n",
    "    \n",
    "def infoGain(data,currentAttr,impType,targetAttr=\"left\") :\n",
    "    \n",
    "    totalRows = data.shape[0] #total Rows in data\n",
    "    \n",
    "    #Class label unique values [0,1] and their corresponding counts [x,y]\n",
    "    targetValues, targetValuesCount = np.unique(data[targetAttr],return_counts=True)\n",
    "    \n",
    "    #Current Attribute unique values ex. [\"low\",\"medium\",\"high\"] and their corresponding counts [x,y,z]\n",
    "    currentValues, currentValuesCount = np.unique(data[currentAttr],return_counts=True)\n",
    "    \n",
    "    targetEntropy = impType(targetValuesCount[0]/(totalRows)) #target Entropy\n",
    "    \n",
    "    weightedEntropy = 0\n",
    "    intrinsic = 0\n",
    "    \n",
    "    data1 = data.values\n",
    "    valueMap = { j:0 for j in currentValues} #ex . {\"low\":0, \"medium\":0, \"high\":0}\n",
    "    \n",
    "    i=0\n",
    "    while(i < totalRows):\n",
    "        if data1[i][keyValueMap[targetAttr]] == 0:\n",
    "            valueMap[data1[i][keyValueMap[currentAttr]]] += 1\n",
    "        i += 1\n",
    "        \n",
    "    # summation (Si/S)*(entropy(left(=0)/Si)),(Sj/S)*(entropy(left(=0)/Sj)),.......\n",
    "    for j,i in enumerate(currentValues):\n",
    "        weightedEntropy += ( (currentValuesCount[j]/totalRows) * impType(valueMap[i]/currentValuesCount[j]) )\n",
    "        intrinsic += intrinsicCal(currentValuesCount[j]/totalRows)\n",
    "        \n",
    "    informationGain = targetEntropy - weightedEntropy\n",
    "    return informationGain#/intrinsic\n",
    "\n",
    "# print(infoGain(data,'salary',entropy))\n",
    "# print(infoGain(data,'promotion_last_5years',entropy))\n",
    "# print(infoGain(data,'Work_accident',entropy))\n",
    "# print(np.max([infoGain(data,feature,entropy) for feature in cFeatures]))"
   ]
  },
  {
   "cell_type": "code",
   "execution_count": 214,
   "metadata": {
    "scrolled": true
   },
   "outputs": [],
   "source": [
    "#Function return best atrribute (having maximum information gain) with its information gain\n",
    "#Parameters :\n",
    "    # data = Training Data\n",
    "    # cFeatures = Categorical Attributes list\n",
    "    # impType = Impurity type (entropy | gini | misClass) used to calculate information gain\n",
    "    \n",
    "#Return :\n",
    "    # Tuple (best Attribute, Information gain)\n",
    "\n",
    "def bestInfoGainFeature(data,cFeatures,impType):\n",
    "    infGains = [infoGain(data,feature,impType) for feature in cFeatures]\n",
    "    featureIndex = np.argmax(infGains)\n",
    "    bestFeature = cFeatures[featureIndex]\n",
    "    return (bestFeature,infGains[featureIndex])\n",
    "\n",
    "# bestInfoGainFeature(data,cFeatures,entropy)"
   ]
  },
  {
   "cell_type": "code",
   "execution_count": 215,
   "metadata": {},
   "outputs": [],
   "source": [
    "#Function return best split (having maximum information gain) for atrribute having contineous values\n",
    "\n",
    "#Parameters :\n",
    "    # data = Training Data\n",
    "    # currentAttr = Attribute (contineous value) on which information Gain is calculated\n",
    "    # impType = Impurity type (entropy | gini | misClass) used to calculate information gain\n",
    "    # targetAttr = Target Attribute (Class Label) default is \"left\" column\n",
    "#Return :\n",
    "    # Tuple (best split value, Information gain)\n",
    "\n",
    "def numericSplitInfoGain(data,currentAttr, impType,target=\"left\"):\n",
    "    totalRows = data.shape[0]\n",
    "    \n",
    "    #sort data on numerical attribute\n",
    "    data = data.sort_values(by=currentAttr, ascending=True, inplace=False)\n",
    "    \n",
    "    data1 = data.values;\n",
    "    ones  = np.sum(data[target]) #count of left=1 in data\n",
    "    zeros = totalRows-ones #count of left=0 in data\n",
    "    \n",
    "    targetEntropy=impType(ones/(totalRows))\n",
    "    \n",
    "    lableCountsForLess=[0,0]\n",
    "    labelCountsForGreater=[0,0]\n",
    "    \n",
    "    bestSplit = 0\n",
    "    mxInfoGain = -1\n",
    "    i = 0\n",
    "    currentIndex = keyValueMap[currentAttr]  #index of current Attribute\n",
    "    targetIndex = keyValueMap[target]   #index of target Attribute\n",
    "    while i < totalRows:\n",
    "        numericValue = data1[i][currentIndex]\n",
    "        checkClass = data1[i][targetIndex]\n",
    "        if checkClass == 0:\n",
    "            #count of target's zeros for currentAttr <= numericaval\n",
    "            lableCountsForLess[0] += 1\n",
    "        else:\n",
    "            #count of target's ones for currentAttr <= numericaval\n",
    "            lableCountsForLess[1] += 1\n",
    "        \n",
    "        #count of target's zeros for currentAttr > numericaval\n",
    "        labelCountsForGreater[0] = zeros - lableCountsForLess[0]\n",
    "        #count of target's ones for currentAttr > numericaval\n",
    "        labelCountsForGreater[1] = ones - lableCountsForLess[1]\n",
    "        \n",
    "        if( i+1 != totalRows and data1[i+1][currentIndex] == numericValue):\n",
    "            i += 1\n",
    "            continue\n",
    "\n",
    "        #count of datasets with currentAttr <= numeric\n",
    "        recordsLessThanNumeric = np.sum(lableCountsForLess)\n",
    "        #count of datasets with currentAttr > numeric\n",
    "        recordsGreaterThanNumeric = np.sum(labelCountsForGreater)\n",
    "        \n",
    "        a=0\n",
    "        b=0\n",
    "        intrinsic=0\n",
    "\n",
    "        if recordsLessThanNumeric:\n",
    "            a = (recordsLessThanNumeric/totalRows) * impType(lableCountsForLess[0]/recordsLessThanNumeric)\n",
    "            intrinsic += intrinsicCal(recordsLessThanNumeric/totalRows)\n",
    "        if recordsGreaterThanNumeric:\n",
    "            b = (recordsGreaterThanNumeric/totalRows)*impType(labelCountsForGreater[0]/recordsGreaterThanNumeric)\n",
    "            intrinsic += intrinsicCal(recordsGreaterThanNumeric/totalRows)\n",
    "        \n",
    "        weightedEntropy = a+b\n",
    "        informationGain = (targetEntropy-weightedEntropy)\n",
    "        \n",
    "        if(informationGain >= mxInfoGain):\n",
    "            mxInfoGain = informationGain\n",
    "            bestSplit = numericValue\n",
    "        i += 1\n",
    "    return (bestSplit,mxInfoGain)\n",
    "# numericSplitInfoGain(data,nFeatures[0],entropy)"
   ]
  },
  {
   "cell_type": "code",
   "execution_count": 216,
   "metadata": {},
   "outputs": [],
   "source": [
    "#Function return best atrribute (amongst all attributes with contineous values) \n",
    "# having maximum information gain\n",
    "#Parameters :\n",
    "    # data = Training Data\n",
    "    # impType = Impurity type (entropy | gini | misClass) used to calculate information gain\n",
    "#Return :\n",
    "    # Tuple (best Attribute, best split, Information gain)\n",
    "    \n",
    "def bestInfoGainFeNumeric(data,impType):\n",
    "    mxinFo = 0\n",
    "    split = 0\n",
    "    resF = \"\"\n",
    "    for feature in nFeatures:\n",
    "        fInfoG = numericSplitInfoGain(data,feature,impType)\n",
    "        if fInfoG[1] >= mxinFo:\n",
    "            resF = feature\n",
    "            split = fInfoG[0]\n",
    "            mxinFo = fInfoG[1]\n",
    "    return (resF,split,mxinFo)\n",
    "# bestInfoGainFeNumeric(data,entropy)"
   ]
  },
  {
   "cell_type": "code",
   "execution_count": 217,
   "metadata": {},
   "outputs": [],
   "source": [
    "#read csv\n",
    "# target='left'\n",
    "def config(trainFile,trainDataPercent,testFile=None):\n",
    "    testData=None\n",
    "    global isValidateData\n",
    "    isValidateData=True\n",
    "    try:\n",
    "        data=pd.read_csv(trainFile)\n",
    "        try:\n",
    "            if testFile:\n",
    "                testData=pd.read_csv(testFile)\n",
    "                isValidateData=False\n",
    "        except:\n",
    "            print(\"Error reading test data\")\n",
    "            return False\n",
    "    except:\n",
    "        print(\"Error reading training data\")\n",
    "        return False\n",
    "    \n",
    "    global keyValueMap\n",
    "    keyValueMap={ j:i for i,j in enumerate(list(data.columns.values))}\n",
    "    totalDataSets=len(data)\n",
    "#     trainDataPercent=90\n",
    "    trainDataSetCount=int(trainDataPercent*totalDataSets/100)\n",
    "    \n",
    "    global trainData\n",
    "    trainData=data[:trainDataSetCount]\n",
    "    \n",
    "    global validateData\n",
    "    if isValidateData:\n",
    "        validateData=data[trainDataSetCount:]\n",
    "    else:\n",
    "        isValidateData=False\n",
    "        validateData=testData\n",
    "    return True"
   ]
  },
  {
   "cell_type": "code",
   "execution_count": 218,
   "metadata": {},
   "outputs": [],
   "source": [
    "def predict(tree,dType,targetAttr=\"left\"):\n",
    "    if len(validateData)==0:\n",
    "        print(\"No test/validate data found\")\n",
    "        return\n",
    "\n",
    "    if dType==\"categorical\":\n",
    "        dType=predictClassCategorical\n",
    "    elif dType== \"numerical\":\n",
    "        dType=predictClassNumerical\n",
    "    else:\n",
    "        print(\"Wrong Parameter\",dType)\n",
    "        return\n",
    "        \n",
    "    validateData1=validateData.to_dict(orient = \"records\")\n",
    "    \n",
    "    if isValidateData:\n",
    "        count=0\n",
    "        TP=0\n",
    "        TN=0\n",
    "        keyVMapVali={ j:i for i,j in enumerate(list(validateData.columns.values))}\n",
    "        \n",
    "        totalRows=len(validateData)\n",
    "        totalN=np.sum(validateData[targetAttr])\n",
    "        totalP=totalRows-totalN\n",
    "        \n",
    "        for i in range(len(validateData1)):\n",
    "            known=validateData.iloc[i][keyVMapVali[targetAttr]]\n",
    "            pred=dType(tree,validateData1[i])\n",
    "            if known==pred:\n",
    "                if known==0:\n",
    "                    TP+=1\n",
    "                else:\n",
    "                    TN+=1\n",
    "        FN=totalP-TP\n",
    "        FP=totalN-TN\n",
    "        print(totalRows,totalRows-(TP+TN))\n",
    "#         print(TP,TN,FP,FN)\n",
    "        recall=TP/(TP+FN)\n",
    "        precision=TP/(TP+FP)\n",
    "        accuracy=(TP+TN)/(totalRows)\n",
    "        f1Val=2*recall*precision/(recall+precision)\n",
    "        print(\"recall= \", recall)\n",
    "        print(\"precision= \", precision)\n",
    "        print(\"accuracy \",accuracy)\n",
    "        print(\"F1-Score \",f1Val)\n",
    "    else:\n",
    "        validateData.loc[:,'predicted'] = pd.Series()\n",
    "        predCol=validateData.columns.get_loc('predicted')\n",
    "        for i in range(len(validateData1)):\n",
    "            validateData.iloc[i,predCol] = dType(tree,validateData1[i])\n",
    "        print(\"Class predicted successfully: check output.csv\")\n",
    "        validateData\n",
    "        validateData.to_csv(\"output.csv\")\n",
    "        "
   ]
  },
  {
   "cell_type": "markdown",
   "metadata": {},
   "source": [
    "# <a style=\"text-decoration:none;color:#000\" id=\"section2\">Part-1 : Training on catergorical data</a>"
   ]
  },
  {
   "cell_type": "markdown",
   "metadata": {},
   "source": [
    "## <a style=\"text-decoration:none;color:#000\" id=\"section21\">-Algorithm</a>"
   ]
  },
  {
   "cell_type": "code",
   "execution_count": 219,
   "metadata": {
    "scrolled": true
   },
   "outputs": [],
   "source": [
    "#Function train the decision tree on taking attributes as categorical and return the tree node\n",
    "#Parameters :\n",
    "    # filterdData = train data which keeps on filtering according to algorithm.\n",
    "    # cFeatures = list of catergorical attributes on which tree will be trained\n",
    "    # impType = Impurity type (entropy | gini | misClass) used to calculate information gain\n",
    "    # targetAttr = Target Attribute (Class Label) default is \"left\" column\n",
    "#Return :\n",
    "    # root node of tree\n",
    "\n",
    "def buildTreeCategorical(filterdData,cFeatures,impType,targetAttr=\"left\"):\n",
    "    \n",
    "    #check if data is pure i.e all tuples have exact 1 type of label\n",
    "    if(len(np.unique(filterdData[targetAttr]))<=1):\n",
    "        return np.unique(filterdData[targetAttr])[0]\n",
    "    \n",
    "    #check if all the categorical attributes had been used\n",
    "    elif(len(cFeatures)==0):\n",
    "        values,count=np.unique(filterdData[targetAttr],return_counts=True)\n",
    "        return values[np.argmax(count)]\n",
    "    \n",
    "    #else grow the tree for all possible value of best feature\n",
    "    #threby filtering the data on that value of best feature\n",
    "    else:\n",
    "        #find best feature\n",
    "        #create a node with best feature and return it at the end\n",
    "        #remove best feature from local list of features(cFeatures) for now\n",
    "        #execute a for loop for all possible value of best feature (filtering on this value), and create a branch on\n",
    "            #this value [best][value1] and receive the result of recursive call on this filtered data      \n",
    "        bestF=bestInfoGainFeature(filterdData,cFeatures, impType)[0]\n",
    "        node={bestF:{}}\n",
    "        cFeatures=[feature for feature in cFeatures if feature!=bestF]\n",
    "        for value in np.unique(filterdData[bestF]):\n",
    "            #filter new datatable based on best feature [value]\n",
    "            filteredData=filterdData.where(filterdData[bestF]==value).dropna()\n",
    "            node[bestF][value]=buildTreeCategorical(filteredData,cFeatures,impType)\n",
    "        \n",
    "    return node"
   ]
  },
  {
   "cell_type": "code",
   "execution_count": 220,
   "metadata": {
    "scrolled": true
   },
   "outputs": [],
   "source": [
    "def predictClassCategorical(tree,validateDataRow):\n",
    "    dataCols=validateDataRow.keys()\n",
    "    for key in dataCols:\n",
    "        if key in tree.keys():\n",
    "            try:\n",
    "                temp=tree[key][validateDataRow[key]]\n",
    "            except:\n",
    "                return 0\n",
    "            if isinstance(temp,dict):\n",
    "                return predictClassCategorical(temp,validateDataRow)\n",
    "            else:\n",
    "                return temp   "
   ]
  },
  {
   "cell_type": "code",
   "execution_count": 265,
   "metadata": {},
   "outputs": [],
   "source": [
    "def trainAndTestCategorical(trainFile,trainDataPercent,impType,testFile=None):\n",
    "    if not(config(trainFile,trainDataPercent,testFile)):\n",
    "        return\n",
    "    tree=buildTreeCategorical(trainData,cFeatures,impType)\n",
    "    print(tree)\n",
    "    predict(tree,\"categorical\")"
   ]
  },
  {
   "cell_type": "markdown",
   "metadata": {},
   "source": [
    "## <a style=\"text-decoration:none;color:#000\" id=\"section22\">-Training and Prediction (Categorical) </a>"
   ]
  },
  {
   "cell_type": "code",
   "execution_count": 266,
   "metadata": {},
   "outputs": [
    {
     "name": "stdout",
     "output_type": "stream",
     "text": [
      "{'salary': {'high': {'sales': {'IT': {'Work_accident': {0.0: {'promotion_last_5years': {0.0: 0.0}}, 1.0: 0.0}}, 'RandD': {'Work_accident': {0.0: {'promotion_last_5years': {0.0: 0.0, 1.0: 0.0}}, 1.0: 0.0}}, 'accounting': {'Work_accident': {0.0: {'promotion_last_5years': {0.0: 0.0, 1.0: 0.0}}, 1.0: 0.0}}, 'hr': {'Work_accident': {0.0: {'promotion_last_5years': {0.0: 0.0, 1.0: 0.0}}, 1.0: 0.0}}, 'management': {'promotion_last_5years': {0.0: {'Work_accident': {0.0: 0.0, 1.0: 0.0}}, 1.0: 0.0}}, 'marketing': {'Work_accident': {0.0: {'promotion_last_5years': {0.0: 0.0}}, 1.0: 0.0}}, 'product_mng': {'Work_accident': {0.0: {'promotion_last_5years': {0.0: 0.0}}, 1.0: 0.0}}, 'sales': {'Work_accident': {0.0: {'promotion_last_5years': {0.0: 0.0, 1.0: 0.0}}, 1.0: 0.0}}, 'support': {'Work_accident': {0.0: {'promotion_last_5years': {0.0: 0.0}}, 1.0: 0.0}}, 'technical': {'Work_accident': {0.0: {'promotion_last_5years': {0.0: 0.0}}, 1.0: 0.0}}}}, 'low': {'Work_accident': {0.0: {'sales': {'IT': {'promotion_last_5years': {0.0: 0.0, 1.0: 1.0}}, 'RandD': {'promotion_last_5years': {0.0: 0.0, 1.0: 0.0}}, 'accounting': {'promotion_last_5years': {0.0: 0.0, 1.0: 0.0}}, 'hr': {'promotion_last_5years': {0.0: 0.0, 1.0: 0.0}}, 'management': {'promotion_last_5years': {0.0: 0.0, 1.0: 1.0}}, 'marketing': {'promotion_last_5years': {0.0: 0.0, 1.0: 0.0}}, 'product_mng': {'promotion_last_5years': {0.0: 0.0}}, 'sales': {'promotion_last_5years': {0.0: 0.0, 1.0: 0.0}}, 'support': {'promotion_last_5years': {0.0: 0.0, 1.0: 0.0}}, 'technical': {'promotion_last_5years': {0.0: 0.0, 1.0: 0.0}}}}, 1.0: {'sales': {'IT': {'promotion_last_5years': {0.0: 0.0}}, 'RandD': {'promotion_last_5years': {0.0: 0.0, 1.0: 0.0}}, 'accounting': {'promotion_last_5years': {0.0: 0.0}}, 'hr': {'promotion_last_5years': {0.0: 0.0}}, 'management': {'promotion_last_5years': {0.0: 0.0, 1.0: 0.0}}, 'marketing': {'promotion_last_5years': {0.0: 0.0, 1.0: 0.0}}, 'product_mng': {'promotion_last_5years': {0.0: 0.0}}, 'sales': {'promotion_last_5years': {0.0: 0.0, 1.0: 1.0}}, 'support': {'promotion_last_5years': {0.0: 0.0}}, 'technical': {'promotion_last_5years': {0.0: 0.0, 1.0: 0.0}}}}}}, 'medium': {'Work_accident': {0.0: {'sales': {'IT': {'promotion_last_5years': {0.0: 0.0, 1.0: 1.0}}, 'RandD': {'promotion_last_5years': {0.0: 0.0, 1.0: 0.0}}, 'accounting': {'promotion_last_5years': {0.0: 0.0, 1.0: 0.0}}, 'hr': {'promotion_last_5years': {0.0: 0.0, 1.0: 0.0}}, 'management': {'promotion_last_5years': {0.0: 0.0, 1.0: 0.0}}, 'marketing': {'promotion_last_5years': {0.0: 0.0, 1.0: 0.0}}, 'product_mng': {'promotion_last_5years': {0.0: 0.0}}, 'sales': {'promotion_last_5years': {0.0: 0.0, 1.0: 0.0}}, 'support': {'promotion_last_5years': {0.0: 0.0, 1.0: 0.0}}, 'technical': {'promotion_last_5years': {0.0: 0.0, 1.0: 0.0}}}}, 1.0: {'sales': {'IT': {'promotion_last_5years': {0.0: 0.0}}, 'RandD': {'promotion_last_5years': {0.0: 0.0, 1.0: 0.0}}, 'accounting': {'promotion_last_5years': {0.0: 0.0}}, 'hr': {'promotion_last_5years': {0.0: 0.0, 1.0: 0.0}}, 'management': {'promotion_last_5years': {0.0: 0.0, 1.0: 0.0}}, 'marketing': {'promotion_last_5years': {0.0: 0.0, 1.0: 0.0}}, 'product_mng': {'promotion_last_5years': {0.0: 0.0}}, 'sales': {'promotion_last_5years': {0.0: 0.0, 1.0: 0.0}}, 'support': {'promotion_last_5years': {0.0: 0.0, 1.0: 0.0}}, 'technical': {'promotion_last_5years': {0.0: 0.0, 1.0: 0.0}}}}}}}}\n",
      "1124 282\n",
      "recall=  1.0\n",
      "precision=  0.748886910062333\n",
      "accuracy  0.7491103202846975\n",
      "F1-Score  0.8564154786150713\n"
     ]
    }
   ],
   "source": [
    "trainAndTestCategorical(\"train.csv\",90,entropy)"
   ]
  },
  {
   "cell_type": "markdown",
   "metadata": {},
   "source": [
    "# <a style=\"text-decoration:none;color:#000\" id=\"section3\">Part-2: Training with categorical and numerical features.</a>"
   ]
  },
  {
   "cell_type": "markdown",
   "metadata": {},
   "source": [
    "## <a style=\"text-decoration:none;color:#000\" id=\"section31\">-Algorithm</a>"
   ]
  },
  {
   "cell_type": "code",
   "execution_count": 223,
   "metadata": {
    "scrolled": false
   },
   "outputs": [],
   "source": [
    "#Function train the decision tree with categorical and numerical features  and return the tree node\n",
    "#Parameters :\n",
    "    # filterdData = train data which keeps on filtering according to algorithm.\n",
    "    # cFeatures = list of catergorical attributes (unused categorical features)\n",
    "    # impType = Impurity type (entropy | gini | misClass) used to calculate information gain\n",
    "    # targetAttr = Target Attribute (Class Label) default is \"left\" column\n",
    "    # Note: uses nFeatures i.e numerical features in utility methods\n",
    "#Return :\n",
    "    # root node of tree\n",
    "\n",
    "def buildTreeCatAndNum(filteredData,cFeatures,impType,parentDataMode=None,targetAttr=\"left\"):\n",
    "    \n",
    "    # check if data is empty, if so, return the class of target i.e \"left\" appeared maximum in its parent data\n",
    "    if len(filteredData)==0:\n",
    "        return parentDataMode\n",
    "    \n",
    "    # check if data is pure i.e all tuples have exact 1 type of label, if so return it\n",
    "    if(len(np.unique(filteredData[targetAttr]))==1):\n",
    "        return np.unique(filteredData[targetAttr])[0]\n",
    "    \n",
    "    # check if all the categorical attributes had been used, (numerical split may be possible)\n",
    "    elif(len(cFeatures)==0):\n",
    "    \n",
    "            # best numerical Feature and its split value\n",
    "            bestFNum=bestInfoGainFeNumeric(filteredData, impType)\n",
    "            bestF=bestFNum[0] # best Feature\n",
    "            split=bestFNum[1] # split value\n",
    "            ig=bestFNum[2]    # information gain\n",
    "            \n",
    "            # to handle values approcing to zero i.e. like  1.1e-16\n",
    "            if ig<=0.00000001:\n",
    "                values,count=np.unique(filteredData[targetAttr],return_counts=True)\n",
    "                return values[np.argmax(count)]\n",
    "            \n",
    "            node={bestF:{}}\n",
    "            parentDataMode = np.unique(filteredData[targetAttr])[np.argmax(np.unique(filteredData[targetAttr],return_counts=True)[1])]\n",
    "            node[bestF][(split,True)]=buildTreeCatAndNum(filteredData.where(filteredData[bestF]<=split).dropna(),cFeatures,impType,parentDataMode)\n",
    "            node[bestF][(split,False)]=buildTreeCatAndNum(filteredData.where(filteredData[bestF]>split).dropna(),cFeatures,impType,parentDataMode)\n",
    "            return node;\n",
    "\n",
    "    # if not all categorical attributes had been used\n",
    "    else:\n",
    "\n",
    "        # get best categorical attribute and its info gain\n",
    "        bestFCate=bestInfoGainFeature(filteredData,cFeatures, impType)\n",
    "       \n",
    "        # get best numerical attribute and its info gain\n",
    "        bestFNum=bestInfoGainFeNumeric(filteredData, impType)\n",
    "        \n",
    "        # target i.e \"left\" class appeared maximum number of times\n",
    "        parentDataMode = np.unique(filteredData[targetAttr])[np.argmax(np.unique(filteredData[targetAttr],return_counts=True)[1])]\n",
    "        \n",
    "        ig=max(bestFCate[1],bestFNum[2])\n",
    "        \n",
    "        # to handle values approcing to zero i.e. like  1.1e-16\n",
    "        if ig<=0.00000001:\n",
    "            values,count=np.unique(filteredData[targetAttr],return_counts=True)\n",
    "            return values[np.argmax(count)]\n",
    "        \n",
    "        # if infromation gain of categorical attribute >= infromation gain of numerical attribute\n",
    "        if bestFCate[1]>=bestFNum[2]:\n",
    "            bestF=bestFCate[0]\n",
    "            node={bestF:{}}\n",
    "            cFeatures=[feature for feature in cFeatures if feature!=bestF]\n",
    "            for value in np.unique(filteredData[bestF]):\n",
    "                # filter data based on best feature [value] and create a branch on it\n",
    "                # here branch is identified by direct value\n",
    "                filteredData=filteredData.where(filteredData[bestF]==value).dropna()\n",
    "                node[bestF][value]=buildTreeCatAndNum(filteredData,cFeatures,impType,parentDataMode)\n",
    "        else:\n",
    "            bestF=bestFNum[0]\n",
    "            split=bestFNum[1]\n",
    "            node={bestF:{}}\n",
    "            # create 2 branches on split value (<= and >) and filter data accordingly\n",
    "            # here branch is identified by tuple\n",
    "            node[bestF][(split,True)]=buildTreeCatAndNum(filteredData.where(filteredData[bestF]<=split).dropna(),cFeatures,impType,parentDataMode)\n",
    "            node[bestF][(split,False)]=buildTreeCatAndNum(filteredData.where(filteredData[bestF]>split).dropna(),cFeatures,impType,parentDataMode)\n",
    "        \n",
    "    return node"
   ]
  },
  {
   "cell_type": "code",
   "execution_count": 224,
   "metadata": {},
   "outputs": [],
   "source": [
    "def predictClassNumerical(tree,validateDataRow):\n",
    "    dataCols=validateDataRow.keys()\n",
    "    for key in dataCols:\n",
    "        if key in tree.keys():            \n",
    "#             try:\n",
    "            temp=tree[key]\n",
    "            val=validateDataRow[key]\n",
    "            temp2=list(temp.keys())\n",
    "            if(isinstance(temp2[0],tuple)):\n",
    "                if val<=temp2[0][0]:\n",
    "                    if isinstance(temp[temp2[0]],dict):\n",
    "                        return predictClassNumerical(temp[temp2[0]],validateDataRow)\n",
    "                    else:\n",
    "                        return temp[temp2[0]]\n",
    "                else:\n",
    "                    if isinstance(temp[temp2[1]],dict):\n",
    "                        return predictClassNumerical(temp[temp2[1]],validateDataRow)\n",
    "                    else:\n",
    "                        return temp[temp2[1]]\n",
    "            else:\n",
    "                try:\n",
    "                    if isinstance(temp[val],dict):\n",
    "                        return predictClassNumerical(temp[val],validateDataRow)\n",
    "                    else:\n",
    "                        return temp[val]\n",
    "                except:\n",
    "                    return 0\n",
    "#             except:\n",
    "#                 return 0"
   ]
  },
  {
   "cell_type": "code",
   "execution_count": 225,
   "metadata": {},
   "outputs": [],
   "source": [
    "def trainAndTestNumerical(trainFile,trainDataPercent,impType,testFile=None):\n",
    "    if not(config(trainFile,trainDataPercent,testFile)):\n",
    "        return\n",
    "    tree=buildTreeCatAndNum(trainData,cFeatures,impType)\n",
    "#     print(tree)\n",
    "    predict(tree,\"numerical\")"
   ]
  },
  {
   "cell_type": "markdown",
   "metadata": {},
   "source": [
    "## <a style=\"text-decoration:none;color:#000\" id=\"section32\">-Training and Prediction (Numerical)</a>"
   ]
  },
  {
   "cell_type": "markdown",
   "metadata": {},
   "source": [
    "> You can pass following parameters in order\n",
    "\n",
    "> Param1     : Training Data file\n",
    "\n",
    "> Param2     : Training Data (percent to train on) Ex. 90 means TrainingData=90% and ValidationData=10% (remaining data)\n",
    "\n",
    "> Param3     : Impurity type, possible values: entropy , gini, misClass\n",
    "\n",
    "> Param4 (optional)  : testData file (if provided then it train data on percent provided and predict class for test data and create outpu.txt)"
   ]
  },
  {
   "cell_type": "code",
   "execution_count": 227,
   "metadata": {
    "scrolled": true
   },
   "outputs": [
    {
     "name": "stdout",
     "output_type": "stream",
     "text": [
      "1124 24\n",
      "recall=  0.9964328180737217\n",
      "precision=  0.9755529685681025\n",
      "accuracy  0.9786476868327402\n",
      "F1-Score  0.9858823529411765\n"
     ]
    }
   ],
   "source": [
    "trainAndTestNumerical(\"train.csv\",90,entropy)"
   ]
  },
  {
   "cell_type": "code",
   "execution_count": 404,
   "metadata": {
    "scrolled": false
   },
   "outputs": [
    {
     "ename": "ValueError",
     "evalue": "could not convert string to float: 'low'",
     "output_type": "error",
     "traceback": [
      "\u001b[0;31m---------------------------------------------------------------------------\u001b[0m",
      "\u001b[0;31mValueError\u001b[0m                                Traceback (most recent call last)",
      "\u001b[0;32m<ipython-input-404-933238ad4103>\u001b[0m in \u001b[0;36m<module>\u001b[0;34m\u001b[0m\n\u001b[1;32m     26\u001b[0m \u001b[0;31m#             plt.show()\u001b[0m\u001b[0;34m\u001b[0m\u001b[0;34m\u001b[0m\u001b[0;34m\u001b[0m\u001b[0m\n\u001b[1;32m     27\u001b[0m \u001b[0;34m\u001b[0m\u001b[0m\n\u001b[0;32m---> 28\u001b[0;31m \u001b[0mads\u001b[0m\u001b[0;34m(\u001b[0m\u001b[0;34m)\u001b[0m\u001b[0;34m\u001b[0m\u001b[0;34m\u001b[0m\u001b[0m\n\u001b[0m",
      "\u001b[0;32m<ipython-input-404-933238ad4103>\u001b[0m in \u001b[0;36mads\u001b[0;34m()\u001b[0m\n\u001b[1;32m     14\u001b[0m     \u001b[0mfeatures\u001b[0m\u001b[0;34m=\u001b[0m\u001b[0;34m[\u001b[0m\u001b[0mfeature\u001b[0m \u001b[0;32mfor\u001b[0m \u001b[0mfeature\u001b[0m \u001b[0;32min\u001b[0m \u001b[0mdata\u001b[0m\u001b[0;34m.\u001b[0m\u001b[0mcolumns\u001b[0m\u001b[0;34m.\u001b[0m\u001b[0mvalues\u001b[0m \u001b[0;32mif\u001b[0m \u001b[0mfeature\u001b[0m\u001b[0;34m!=\u001b[0m\u001b[0;34m\"left\"\u001b[0m\u001b[0;34m]\u001b[0m\u001b[0;34m\u001b[0m\u001b[0;34m\u001b[0m\u001b[0m\n\u001b[1;32m     15\u001b[0m     \u001b[0mlength\u001b[0m\u001b[0;34m=\u001b[0m\u001b[0mlen\u001b[0m\u001b[0;34m(\u001b[0m\u001b[0mfeatures\u001b[0m\u001b[0;34m)\u001b[0m\u001b[0;34m\u001b[0m\u001b[0;34m\u001b[0m\u001b[0m\n\u001b[0;32m---> 16\u001b[0;31m     \u001b[0mplt\u001b[0m\u001b[0;34m.\u001b[0m\u001b[0mscatter\u001b[0m\u001b[0;34m(\u001b[0m\u001b[0midx_0\u001b[0m\u001b[0;34m[\u001b[0m\u001b[0;34m'salary'\u001b[0m\u001b[0;34m]\u001b[0m\u001b[0;34m,\u001b[0m\u001b[0midx_0\u001b[0m\u001b[0;34m[\u001b[0m\u001b[0;34m\"number_project\"\u001b[0m\u001b[0;34m]\u001b[0m\u001b[0;34m,\u001b[0m\u001b[0ms\u001b[0m\u001b[0;34m=\u001b[0m\u001b[0;36m30\u001b[0m\u001b[0;34m,\u001b[0m\u001b[0mc\u001b[0m\u001b[0;34m=\u001b[0m\u001b[0;34m'g'\u001b[0m\u001b[0;34m,\u001b[0m\u001b[0mlabel\u001b[0m\u001b[0;34m=\u001b[0m\u001b[0;34m'Not Left'\u001b[0m\u001b[0;34m)\u001b[0m\u001b[0;34m\u001b[0m\u001b[0;34m\u001b[0m\u001b[0m\n\u001b[0m\u001b[1;32m     17\u001b[0m     \u001b[0mplt\u001b[0m\u001b[0;34m.\u001b[0m\u001b[0mscatter\u001b[0m\u001b[0;34m(\u001b[0m\u001b[0midx_1\u001b[0m\u001b[0;34m[\u001b[0m\u001b[0;34m'salary'\u001b[0m\u001b[0;34m]\u001b[0m\u001b[0;34m,\u001b[0m\u001b[0midx_1\u001b[0m\u001b[0;34m[\u001b[0m\u001b[0;34m\"number_project\"\u001b[0m\u001b[0;34m]\u001b[0m\u001b[0;34m,\u001b[0m\u001b[0ms\u001b[0m\u001b[0;34m=\u001b[0m\u001b[0;36m15\u001b[0m\u001b[0;34m,\u001b[0m\u001b[0mc\u001b[0m\u001b[0;34m=\u001b[0m\u001b[0;34m'r'\u001b[0m\u001b[0;34m,\u001b[0m\u001b[0mlabel\u001b[0m\u001b[0;34m=\u001b[0m\u001b[0;34m'Left'\u001b[0m\u001b[0;34m)\u001b[0m\u001b[0;34m\u001b[0m\u001b[0;34m\u001b[0m\u001b[0m\n\u001b[1;32m     18\u001b[0m \u001b[0;31m#     for i in range(length):\u001b[0m\u001b[0;34m\u001b[0m\u001b[0;34m\u001b[0m\u001b[0;34m\u001b[0m\u001b[0m\n",
      "\u001b[0;32m~/anaconda3/lib/python3.7/site-packages/matplotlib/pyplot.py\u001b[0m in \u001b[0;36mscatter\u001b[0;34m(x, y, s, c, marker, cmap, norm, vmin, vmax, alpha, linewidths, verts, edgecolors, data, **kwargs)\u001b[0m\n\u001b[1;32m   2862\u001b[0m         \u001b[0mvmin\u001b[0m\u001b[0;34m=\u001b[0m\u001b[0mvmin\u001b[0m\u001b[0;34m,\u001b[0m \u001b[0mvmax\u001b[0m\u001b[0;34m=\u001b[0m\u001b[0mvmax\u001b[0m\u001b[0;34m,\u001b[0m \u001b[0malpha\u001b[0m\u001b[0;34m=\u001b[0m\u001b[0malpha\u001b[0m\u001b[0;34m,\u001b[0m \u001b[0mlinewidths\u001b[0m\u001b[0;34m=\u001b[0m\u001b[0mlinewidths\u001b[0m\u001b[0;34m,\u001b[0m\u001b[0;34m\u001b[0m\u001b[0;34m\u001b[0m\u001b[0m\n\u001b[1;32m   2863\u001b[0m         verts=verts, edgecolors=edgecolors, **({\"data\": data} if data\n\u001b[0;32m-> 2864\u001b[0;31m         is not None else {}), **kwargs)\n\u001b[0m\u001b[1;32m   2865\u001b[0m     \u001b[0msci\u001b[0m\u001b[0;34m(\u001b[0m\u001b[0m__ret\u001b[0m\u001b[0;34m)\u001b[0m\u001b[0;34m\u001b[0m\u001b[0;34m\u001b[0m\u001b[0m\n\u001b[1;32m   2866\u001b[0m     \u001b[0;32mreturn\u001b[0m \u001b[0m__ret\u001b[0m\u001b[0;34m\u001b[0m\u001b[0;34m\u001b[0m\u001b[0m\n",
      "\u001b[0;32m~/anaconda3/lib/python3.7/site-packages/matplotlib/__init__.py\u001b[0m in \u001b[0;36minner\u001b[0;34m(ax, data, *args, **kwargs)\u001b[0m\n\u001b[1;32m   1808\u001b[0m                         \u001b[0;34m\"the Matplotlib list!)\"\u001b[0m \u001b[0;34m%\u001b[0m \u001b[0;34m(\u001b[0m\u001b[0mlabel_namer\u001b[0m\u001b[0;34m,\u001b[0m \u001b[0mfunc\u001b[0m\u001b[0;34m.\u001b[0m\u001b[0m__name__\u001b[0m\u001b[0;34m)\u001b[0m\u001b[0;34m,\u001b[0m\u001b[0;34m\u001b[0m\u001b[0;34m\u001b[0m\u001b[0m\n\u001b[1;32m   1809\u001b[0m                         RuntimeWarning, stacklevel=2)\n\u001b[0;32m-> 1810\u001b[0;31m             \u001b[0;32mreturn\u001b[0m \u001b[0mfunc\u001b[0m\u001b[0;34m(\u001b[0m\u001b[0max\u001b[0m\u001b[0;34m,\u001b[0m \u001b[0;34m*\u001b[0m\u001b[0margs\u001b[0m\u001b[0;34m,\u001b[0m \u001b[0;34m**\u001b[0m\u001b[0mkwargs\u001b[0m\u001b[0;34m)\u001b[0m\u001b[0;34m\u001b[0m\u001b[0;34m\u001b[0m\u001b[0m\n\u001b[0m\u001b[1;32m   1811\u001b[0m \u001b[0;34m\u001b[0m\u001b[0m\n\u001b[1;32m   1812\u001b[0m         inner.__doc__ = _add_data_doc(inner.__doc__,\n",
      "\u001b[0;32m~/anaconda3/lib/python3.7/site-packages/matplotlib/axes/_axes.py\u001b[0m in \u001b[0;36mscatter\u001b[0;34m(self, x, y, s, c, marker, cmap, norm, vmin, vmax, alpha, linewidths, verts, edgecolors, **kwargs)\u001b[0m\n\u001b[1;32m   4295\u001b[0m                 \u001b[0moffsets\u001b[0m\u001b[0;34m=\u001b[0m\u001b[0moffsets\u001b[0m\u001b[0;34m,\u001b[0m\u001b[0;34m\u001b[0m\u001b[0;34m\u001b[0m\u001b[0m\n\u001b[1;32m   4296\u001b[0m                 \u001b[0mtransOffset\u001b[0m\u001b[0;34m=\u001b[0m\u001b[0mkwargs\u001b[0m\u001b[0;34m.\u001b[0m\u001b[0mpop\u001b[0m\u001b[0;34m(\u001b[0m\u001b[0;34m'transform'\u001b[0m\u001b[0;34m,\u001b[0m \u001b[0mself\u001b[0m\u001b[0;34m.\u001b[0m\u001b[0mtransData\u001b[0m\u001b[0;34m)\u001b[0m\u001b[0;34m,\u001b[0m\u001b[0;34m\u001b[0m\u001b[0;34m\u001b[0m\u001b[0m\n\u001b[0;32m-> 4297\u001b[0;31m                 \u001b[0malpha\u001b[0m\u001b[0;34m=\u001b[0m\u001b[0malpha\u001b[0m\u001b[0;34m\u001b[0m\u001b[0;34m\u001b[0m\u001b[0m\n\u001b[0m\u001b[1;32m   4298\u001b[0m                 )\n\u001b[1;32m   4299\u001b[0m         \u001b[0mcollection\u001b[0m\u001b[0;34m.\u001b[0m\u001b[0mset_transform\u001b[0m\u001b[0;34m(\u001b[0m\u001b[0mmtransforms\u001b[0m\u001b[0;34m.\u001b[0m\u001b[0mIdentityTransform\u001b[0m\u001b[0;34m(\u001b[0m\u001b[0;34m)\u001b[0m\u001b[0;34m)\u001b[0m\u001b[0;34m\u001b[0m\u001b[0;34m\u001b[0m\u001b[0m\n",
      "\u001b[0;32m~/anaconda3/lib/python3.7/site-packages/matplotlib/collections.py\u001b[0m in \u001b[0;36m__init__\u001b[0;34m(self, paths, sizes, **kwargs)\u001b[0m\n\u001b[1;32m    897\u001b[0m         \"\"\"\n\u001b[1;32m    898\u001b[0m \u001b[0;34m\u001b[0m\u001b[0m\n\u001b[0;32m--> 899\u001b[0;31m         \u001b[0mCollection\u001b[0m\u001b[0;34m.\u001b[0m\u001b[0m__init__\u001b[0m\u001b[0;34m(\u001b[0m\u001b[0mself\u001b[0m\u001b[0;34m,\u001b[0m \u001b[0;34m**\u001b[0m\u001b[0mkwargs\u001b[0m\u001b[0;34m)\u001b[0m\u001b[0;34m\u001b[0m\u001b[0;34m\u001b[0m\u001b[0m\n\u001b[0m\u001b[1;32m    900\u001b[0m         \u001b[0mself\u001b[0m\u001b[0;34m.\u001b[0m\u001b[0mset_paths\u001b[0m\u001b[0;34m(\u001b[0m\u001b[0mpaths\u001b[0m\u001b[0;34m)\u001b[0m\u001b[0;34m\u001b[0m\u001b[0;34m\u001b[0m\u001b[0m\n\u001b[1;32m    901\u001b[0m         \u001b[0mself\u001b[0m\u001b[0;34m.\u001b[0m\u001b[0mset_sizes\u001b[0m\u001b[0;34m(\u001b[0m\u001b[0msizes\u001b[0m\u001b[0;34m)\u001b[0m\u001b[0;34m\u001b[0m\u001b[0;34m\u001b[0m\u001b[0m\n",
      "\u001b[0;32m~/anaconda3/lib/python3.7/site-packages/matplotlib/collections.py\u001b[0m in \u001b[0;36m__init__\u001b[0;34m(self, edgecolors, facecolors, linewidths, linestyles, capstyle, joinstyle, antialiaseds, offsets, transOffset, norm, cmap, pickradius, hatch, urls, offset_position, zorder, **kwargs)\u001b[0m\n\u001b[1;32m    153\u001b[0m         \u001b[0mself\u001b[0m\u001b[0;34m.\u001b[0m\u001b[0m_uniform_offsets\u001b[0m \u001b[0;34m=\u001b[0m \u001b[0;32mNone\u001b[0m\u001b[0;34m\u001b[0m\u001b[0;34m\u001b[0m\u001b[0m\n\u001b[1;32m    154\u001b[0m         \u001b[0;32mif\u001b[0m \u001b[0moffsets\u001b[0m \u001b[0;32mis\u001b[0m \u001b[0;32mnot\u001b[0m \u001b[0;32mNone\u001b[0m\u001b[0;34m:\u001b[0m\u001b[0;34m\u001b[0m\u001b[0;34m\u001b[0m\u001b[0m\n\u001b[0;32m--> 155\u001b[0;31m             \u001b[0moffsets\u001b[0m \u001b[0;34m=\u001b[0m \u001b[0mnp\u001b[0m\u001b[0;34m.\u001b[0m\u001b[0masanyarray\u001b[0m\u001b[0;34m(\u001b[0m\u001b[0moffsets\u001b[0m\u001b[0;34m,\u001b[0m \u001b[0mfloat\u001b[0m\u001b[0;34m)\u001b[0m\u001b[0;34m\u001b[0m\u001b[0;34m\u001b[0m\u001b[0m\n\u001b[0m\u001b[1;32m    156\u001b[0m             \u001b[0;31m# Broadcast (2,) -> (1, 2) but nothing else.\u001b[0m\u001b[0;34m\u001b[0m\u001b[0;34m\u001b[0m\u001b[0;34m\u001b[0m\u001b[0m\n\u001b[1;32m    157\u001b[0m             \u001b[0;32mif\u001b[0m \u001b[0moffsets\u001b[0m\u001b[0;34m.\u001b[0m\u001b[0mshape\u001b[0m \u001b[0;34m==\u001b[0m \u001b[0;34m(\u001b[0m\u001b[0;36m2\u001b[0m\u001b[0;34m,\u001b[0m\u001b[0;34m)\u001b[0m\u001b[0;34m:\u001b[0m\u001b[0;34m\u001b[0m\u001b[0;34m\u001b[0m\u001b[0m\n",
      "\u001b[0;32m~/anaconda3/lib/python3.7/site-packages/numpy/core/numeric.py\u001b[0m in \u001b[0;36masanyarray\u001b[0;34m(a, dtype, order)\u001b[0m\n\u001b[1;32m    551\u001b[0m \u001b[0;34m\u001b[0m\u001b[0m\n\u001b[1;32m    552\u001b[0m     \"\"\"\n\u001b[0;32m--> 553\u001b[0;31m     \u001b[0;32mreturn\u001b[0m \u001b[0marray\u001b[0m\u001b[0;34m(\u001b[0m\u001b[0ma\u001b[0m\u001b[0;34m,\u001b[0m \u001b[0mdtype\u001b[0m\u001b[0;34m,\u001b[0m \u001b[0mcopy\u001b[0m\u001b[0;34m=\u001b[0m\u001b[0;32mFalse\u001b[0m\u001b[0;34m,\u001b[0m \u001b[0morder\u001b[0m\u001b[0;34m=\u001b[0m\u001b[0morder\u001b[0m\u001b[0;34m,\u001b[0m \u001b[0msubok\u001b[0m\u001b[0;34m=\u001b[0m\u001b[0;32mTrue\u001b[0m\u001b[0;34m)\u001b[0m\u001b[0;34m\u001b[0m\u001b[0;34m\u001b[0m\u001b[0m\n\u001b[0m\u001b[1;32m    554\u001b[0m \u001b[0;34m\u001b[0m\u001b[0m\n\u001b[1;32m    555\u001b[0m \u001b[0;34m\u001b[0m\u001b[0m\n",
      "\u001b[0;31mValueError\u001b[0m: could not convert string to float: 'low'"
     ]
    },
    {
     "data": {
      "image/png": "[encoded data removed]",
      "text/plain": [
       "<Figure size 640x480 with 1 Axes>"
      ]
     },
     "metadata": {},
     "output_type": "display_data"
    }
   ],
   "source": [
    "import matplotlib.pyplot as plt\n",
    "import matplotlib.style\n",
    "import matplotlib as mpl\n",
    "mpl.rcParams.update(mpl.rcParamsDefault)\n",
    "# mpl.style.use('Solarize_Light2')\n",
    "# from cycler import cycler\n",
    "# mpl.rcParams['axes.prop_cycle'] = cycler(color='crgbrcmyk')\n",
    "\n",
    "\n",
    "def ads():\n",
    "    data=pd.read_csv(\"train.csv\")\n",
    "    idx_1 = data.where(data[\"left\"] == 1)\n",
    "    idx_0 = data.where(data[\"left\"] == 0)\n",
    "    features=[feature for feature in data.columns.values if feature!=\"left\"]\n",
    "    length=len(features)\n",
    "    plt.scatter(idx_0['salary'],idx_0[\"number_project\"],s=30,c='g',label='Not Left')\n",
    "    plt.scatter(idx_1['salary'],idx_1[\"number_project\"],s=15,c='r',label='Left')\n",
    "#     for i in range(length):\n",
    "#         for j in range(i+1,length):\n",
    "#             plt.scatter(idx_0[features[i]],idx_0[features[j]],s=30,c='g',label='Not Left')\n",
    "#             plt.scatter(idx_1[features[i]],idx_1[features[j]],s=15,c='r',label='Left')\n",
    "#             plt.legend()\n",
    "#             plt.legend(loc=0)\n",
    "#             plt.xlabel(features[i])\n",
    "#             plt.ylabel(features[j])\n",
    "#             plt.show()\n",
    "\n",
    "ads()\n"
   ]
  }
 ],
 "metadata": {
  "kernelspec": {
   "display_name": "Python 3",
   "language": "python",
   "name": "python3"
  },
  "language_info": {
   "codemirror_mode": {
    "name": "ipython",
    "version": 3
   },
   "file_extension": ".py",
   "mimetype": "text/x-python",
   "name": "python",
   "nbconvert_exporter": "python",
   "pygments_lexer": "ipython3",
   "version": "3.7.1"
  }
 },
 "nbformat": 4,
 "nbformat_minor": 2
}
