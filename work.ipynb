{
 "cells": [
  {
   "cell_type": "code",
   "execution_count": 3,
   "metadata": {},
   "outputs": [],
   "source": [
    "#import necessary packages\n",
    "import pandas as pd\n",
    "import numpy as np\n"
   ]
  },
  {
   "cell_type": "code",
   "execution_count": 327,
   "metadata": {},
   "outputs": [],
   "source": [
    "#read csv\n",
    "data=pd.read_csv(\"train.csv\")\n",
    "target='left'\n",
    "# data1=data.values\n",
    "# print(data.where(data[\"satisfaction_level\"]==0.47).dropna())\n",
    "# print(data.head())\n",
    "keyValueMap={ j:i for i,j in enumerate(list(data.columns.values))}\n",
    "features=[feature for feature in list(data.columns.values) if feature!=target]\n",
    "cFeatures=['Work_accident','promotion_last_5years','sales','salary']\n",
    "nFeatures=['satisfaction_level','last_evaluation','number_project','average_montly_hours','time_spend_company']\n",
    "# print([(feature,np.unique(data[feature])) for feature in features])"
   ]
  },
  {
   "cell_type": "code",
   "execution_count": 99,
   "metadata": {},
   "outputs": [
    {
     "data": {
      "text/plain": [
       "1.0"
      ]
     },
     "execution_count": 99,
     "metadata": {},
     "output_type": "execute_result"
    }
   ],
   "source": [
    "def intrinsicCal(q):\n",
    "    if q:\n",
    "        return -q*np.log2(q)\n",
    "    return 0\n",
    "\n",
    "def entropy(q):\n",
    "    if q>=1 or q<=0:\n",
    "        return 0\n",
    "    return -(q*np.log2(q)+(1-q)*np.log2(1-q))\n",
    "def gini(q):\n",
    "    return 2*q*(1-q)\n",
    "def misClass(q):\n",
    "    return min(q,1-q)\n",
    "entropy(0.5)"
   ]
  },
  {
   "cell_type": "code",
   "execution_count": 313,
   "metadata": {
    "scrolled": true
   },
   "outputs": [
    {
     "name": "stdout",
     "output_type": "stream",
     "text": [
      "0.020887530533461263\n"
     ]
    }
   ],
   "source": [
    "#return the information gain of current Attribute with impurity type(entrop/gini/misclass) relative to target attribute\n",
    "def infoGain(data,currentAttr,impType,targetAttr=\"left\"):\n",
    "#     print(data.shape[0],data.shape[1])\n",
    "    totalRows=data.shape[0]\n",
    "    \n",
    "#     print(\"Target labels and target labels count\")\n",
    "#     print(np.unique(data[targetAttr],return_counts=True))\n",
    "#     print()\n",
    "    \n",
    "    targetValues, targetValuesCount=np.unique(data[targetAttr],return_counts=True)\n",
    "    currentValues, currentValuesCount=np.unique(data[currentAttr],return_counts=True)\n",
    "#     print(targetValues,targetValuesCount,currentValues, currentValuesCount)\n",
    "    \n",
    "    #q is no employee will stay\n",
    "#     print(\",\", targetValuesCount[0],totalRows)\n",
    "    targetEntropy=impType(targetValuesCount[0]/(totalRows))\n",
    "#     print(\"targetEntropy= \",targetEntropy)\n",
    "    #(Si/S)*(entropy(target(=0)/Si)),(Si/S)*(entropy(target(=1)/Si)),.......\n",
    "#     temp=[(currentValuesCount[j]/totalRows)*impType(np.unique(data.where(data[currentAttr]==i).dropna()[targetAttr],return_counts=True)[1][0]/currentValuesCount[j]) for j,i in enumerate(currentValues)]\n",
    "    \n",
    "#     temp=[((currentValuesCount[j]/totalRows)*impType(np.unique(data.where(data[currentAttr]==i).dropna()[targetAttr],return_counts=True)[1][0]/currentValuesCount[j])) for j,i in enumerate(currentValues)]\n",
    "#     print(temp)\n",
    "#     weightedEntropy=np.sum(temp)\n",
    "#     print(\"weightedEntropy \",weightedEntropy)\n",
    "    weightedEntropy=0\n",
    "    intrinsic=0\n",
    "    for j,i in enumerate(currentValues):\n",
    "        weightedEntropy+= ((currentValuesCount[j]/totalRows)*impType(np.unique(data.where(data[currentAttr]==i).dropna()[targetAttr],return_counts=True)[1][0]/currentValuesCount[j]))\n",
    "        intrinsic+=intrinsicCal(currentValuesCount[j]/totalRows)\n",
    "#     print(\"weightedEntropy \",weightedEntropy)\n",
    "    informationGain=targetEntropy-weightedEntropy\n",
    "#     print(\"informationGain and intrinsic \",informationGain, intrinsic)\n",
    "    return informationGain#/intrinsic\n",
    "print(infoGain(data,'salary',entropy))\n",
    "# print(infoGain(data,'promotion_last_5years',entropy))\n",
    "# print(infoGain(data,'satisfaction_level',entropy))\n",
    "# print(np.max([infoGain(data,feature,entropy) for feature in cFeatures]))"
   ]
  },
  {
   "cell_type": "code",
   "execution_count": 306,
   "metadata": {},
   "outputs": [
    {
     "name": "stdout",
     "output_type": "stream",
     "text": [
      "0.09 [147] [8563 2528]\n",
      "0.1 [423] [8563 2252]\n",
      "0.11 [674] [8563 2001]\n",
      "0.12 [ 19 677] [8544 1998]\n",
      "0.13 [ 56 680] [8507 1995]\n",
      "0.14 [107 686] [8456 1989]\n",
      "0.15 [158 687] [8405 1988]\n",
      "0.16 [220 688] [8343 1987]\n",
      "0.17 [269 692] [8294 1983]\n",
      "0.18 [319 692] [8244 1983]\n",
      "0.19 [362 695] [8201 1980]\n",
      "0.2 [408 698] [8155 1977]\n",
      "0.21 [462 699] [8101 1976]\n",
      "0.22 [509 700] [8054 1975]\n",
      "0.23 [547 701] [8016 1974]\n",
      "0.24 [606 704] [7957 1971]\n",
      "0.25 [625 705] [7938 1970]\n",
      "0.26 [650 705] [7913 1970]\n",
      "0.27 [664 709] [7899 1966]\n",
      "0.28 [686 711] [7877 1964]\n",
      "0.29 [717 711] [7846 1964]\n",
      "0.3 [743 712] [7820 1963]\n",
      "0.31 [776 726] [7787 1949]\n",
      "0.32 [805 732] [7758 1943]\n",
      "0.33 [827 735] [7736 1940]\n",
      "0.34 [862 737] [7701 1938]\n",
      "0.35 [887 739] [7676 1936]\n",
      "0.36 [916 811] [7647 1864]\n",
      "0.37 [951 963] [7612 1712]\n",
      "0.38 [ 980 1067] [7583 1608]\n",
      "0.39 [1004 1169] [7559 1506]\n",
      "0.4 [1034 1298] [7529 1377]\n",
      "0.41 [1066 1397] [7497 1278]\n",
      "0.42 [1100 1480] [7463 1195]\n",
      "0.43 [1133 1614] [7430 1061]\n",
      "0.44 [1176 1722] [7387  953]\n",
      "0.45 [1214 1850] [7349  825]\n",
      "0.46 [1237 1898] [7326  777]\n",
      "0.47 [1268 1902] [7295  773]\n",
      "0.48 [1365 1908] [7198  767]\n",
      "0.49 [1528 1910] [7035  765]\n",
      "0.5 [1689 1913] [6874  762]\n",
      "0.51 [1835 1916] [6728  759]\n",
      "0.52 [1981 1916] [6582  759]\n",
      "0.53 [2110 1924] [6453  751]\n",
      "0.54 [2238 1929] [6325  746]\n",
      "0.55 [2366 1932] [6197  743]\n",
      "0.56 [2513 1936] [6050  739]\n",
      "0.57 [2665 1944] [5898  731]\n",
      "0.58 [2796 1946] [5767  729]\n",
      "0.59 [2958 1952] [5605  723]\n",
      "0.6 [3101 1956] [5462  719]\n",
      "0.61 [3262 1961] [5301  714]\n",
      "0.62 [3397 1963] [5166  712]\n",
      "0.63 [3559 1967] [5004  708]\n",
      "0.64 [3700 1969] [4863  706]\n",
      "0.65 [3854 1970] [4709  705]\n",
      "0.66 [4013 1978] [4550  697]\n",
      "0.67 [4144 1979] [4419  696]\n",
      "0.68 [4269 1980] [4294  695]\n",
      "0.69 [4426 1980] [4137  695]\n",
      "0.7 [4577 1988] [3986  687]\n",
      "0.71 [4698 1991] [3865  684]\n",
      "0.72 [4842 2013] [3721  662]\n",
      "0.73 [5002 2046] [3561  629]\n",
      "0.74 [5156 2082] [3407  593]\n",
      "0.75 [5296 2108] [3267  567]\n",
      "0.76 [5452 2139] [3111  536]\n",
      "0.77 [5606 2173] [2957  502]\n",
      "0.78 [5752 2215] [2811  460]\n",
      "0.79 [5882 2248] [2681  427]\n",
      "0.8 [6015 2269] [2548  406]\n",
      "0.81 [6135 2310] [2428  365]\n",
      "0.82 [6271 2355] [2292  320]\n",
      "0.83 [6416 2387] [2147  288]\n",
      "0.84 [6553 2431] [2010  244]\n",
      "0.85 [6674 2457] [1889  218]\n",
      "0.86 [6799 2481] [1764  194]\n",
      "0.87 [6930 2527] [1633  148]\n",
      "0.88 [7051 2546] [1512  129]\n",
      "0.89 [7184 2588] [1379   87]\n",
      "0.9 [7307 2628] [1256   47]\n",
      "0.91 [7433 2661] [1130   14]\n",
      "0.92 [7569 2675] [994]\n",
      "0.93 [7689 2675] [874]\n",
      "0.94 [7813 2675] [750]\n",
      "0.95 [7949 2675] [614]\n",
      "0.96 [8101 2675] [462]\n",
      "0.97 [8233 2675] [330]\n",
      "0.98 [8365 2675] [198]\n",
      "0.99 [8486 2675] [77]\n",
      "1.0 [8563 2675] []\n"
     ]
    },
    {
     "data": {
      "text/plain": [
       "0.46"
      ]
     },
     "execution_count": 306,
     "metadata": {},
     "output_type": "execute_result"
    }
   ],
   "source": [
    "def numericSplitInfoGain(data,currentAttr,numericValue, impType,targetAttr=\"left\" ):\n",
    "#     print(numericValue)\n",
    "    totalRows=data.shape[0]\n",
    "    currentAttrCol=data[currentAttr]\n",
    "#     print(totalRows)\n",
    "    targetValues, targetValuesCount=np.unique(data[targetAttr],return_counts=True)\n",
    "    targetEntropy=impType(targetValuesCount[0]/(totalRows))\n",
    "    numericValues=[] #all numberic values\n",
    "    informationGains=[] #for all unique numeric values in data\n",
    "    for numericValue in np.unique(data[currentAttr]):\n",
    "#         print(numericValue)\n",
    "        numericValues.append(numericValue)\n",
    "        values1,lableCountsForLess=np.unique(data.where(currentAttrCol<=numericValue).dropna()[targetAttr],return_counts=True)\n",
    "        values2,labelCountsForGreater=np.unique(data.where(currentAttrCol>numericValue).dropna()[targetAttr],return_counts=True)\n",
    "        recordsLessThanNumeric=np.sum(lableCountsForLess)\n",
    "        recordsGreaterThanNumeric=np.sum(labelCountsForGreater)\n",
    "        print(numericValue,lableCountsForLess,labelCountsForGreater)\n",
    "        a=0\n",
    "        b=0\n",
    "        intrinsic=0\n",
    "        if recordsLessThanNumeric:\n",
    "            a=(recordsLessThanNumeric/totalRows)*impType(lableCountsForLess[0]/recordsLessThanNumeric)\n",
    "            intrinsic+=intrinsicCal(recordsLessThanNumeric/totalRows)\n",
    "        if recordsGreaterThanNumeric:\n",
    "            b=(recordsGreaterThanNumeric/totalRows)*impType(labelCountsForGreater[0]/recordsGreaterThanNumeric)\n",
    "            intrinsic+=intrinsicCal(recordsGreaterThanNumeric/totalRows)\n",
    "        weightedEntropy=a+b\n",
    "        informationGain=targetEntropy-weightedEntropy\n",
    "        informationGains.append(informationGain)\n",
    "#     print(targetEntropy)\n",
    "#     print(informationGain)\n",
    "    return numericValues[np.argmax(informationGains)]\n",
    "    \n",
    "# data=data.sort_values(by=\"satisfaction_level\", ascending=True, inplace=False)    \n",
    "# s=np.unique(data['satisfaction_level'])\n",
    "# s[np.argmax([numericSplitInfoGain(data,'satisfaction_level',value,entropy) for value in s ])]\n",
    "numericSplitInfoGain(data,'satisfaction_level',value,entropy)\n",
    "# numericSplitInfoGain(data,'satisfaction_level',0.89,entropy)"
   ]
  },
  {
   "cell_type": "code",
   "execution_count": 332,
   "metadata": {},
   "outputs": [
    {
     "data": {
      "text/plain": [
       "287"
      ]
     },
     "execution_count": 332,
     "metadata": {},
     "output_type": "execute_result"
    }
   ],
   "source": [
    "def numericSplitInfoGain(data,currentAttr,numericValue, impType,target=\"left\"):\n",
    "    totalRows=data.shape[0]\n",
    "    data=data.sort_values(by=currentAttr, ascending=True, inplace=False)    \n",
    "    data1=data.values;\n",
    "    ones=np.sum(data[target])\n",
    "    zeros=totalRows-ones\n",
    "    targetEntropy=impType(ones/(totalRows))\n",
    "    lableCountsForLess=[0,0]\n",
    "    labelCountsForGreater=[0,0]\n",
    "    key=0\n",
    "    mx=-1\n",
    "    i=0\n",
    "    currentIndex=keyValueMap[currentAttr]\n",
    "    targetIndex=keyValueMap[target]\n",
    "    while i<totalRows:\n",
    "        numericValue=data1[i][currentIndex]\n",
    "        tl=data1[i][targetIndex]\n",
    "        if tl==0:\n",
    "            lableCountsForLess[0]+=1\n",
    "            labelCountsForGreater[0]=zeros-lableCountsForLess[0]\n",
    "            labelCountsForGreater[1]=ones-lableCountsForLess[1]\n",
    "        else:\n",
    "            lableCountsForLess[1]+=1\n",
    "            labelCountsForGreater[0]=zeros-lableCountsForLess[0]\n",
    "            labelCountsForGreater[1]=ones-lableCountsForLess[1]\n",
    "            \n",
    "        recordsLessThanNumeric=np.sum(lableCountsForLess)\n",
    "        recordsGreaterThanNumeric=np.sum(labelCountsForGreater)\n",
    "        a=0\n",
    "        b=0\n",
    "        intrinsic=0\n",
    "        if recordsLessThanNumeric:\n",
    "            a=(recordsLessThanNumeric/totalRows)*impType(lableCountsForLess[0]/recordsLessThanNumeric)\n",
    "            intrinsic+=intrinsicCal(recordsLessThanNumeric/totalRows)\n",
    "        if recordsGreaterThanNumeric:\n",
    "            b=(recordsGreaterThanNumeric/totalRows)*impType(labelCountsForGreater[0]/recordsGreaterThanNumeric)\n",
    "            intrinsic+=intrinsicCal(recordsGreaterThanNumeric/totalRows)\n",
    "        weightedEntropy=a+b\n",
    "        informationGain=targetEntropy-weightedEntropy\n",
    "        if(i+1==totalRows or data1[i+1][currentIndex]!=numericValue):\n",
    "            if(informationGain>=mx):\n",
    "                mx=informationGain\n",
    "                key=numericValue\n",
    "        i+=1\n",
    "    return key\n",
    "numericSplitInfoGain(data,'average_montly_hours',value,entropy)"
   ]
  },
  {
   "cell_type": "code",
   "execution_count": 233,
   "metadata": {},
   "outputs": [
    {
     "data": {
      "text/plain": [
       "'salary'"
      ]
     },
     "execution_count": 233,
     "metadata": {},
     "output_type": "execute_result"
    }
   ],
   "source": [
    "def bestInfoGainFeature(data,cFeatures,impType,targetAttr=\"left\"):\n",
    "    #info gains for categorical attributes    \n",
    "    featureIndex=np.argmax([infoGain(data,feature,impType) for feature in cFeatures])\n",
    "    bestFeature=cFeatures[featureIndex]\n",
    "    return bestFeature\n",
    "bestInfoGainFeature(data,cFeatures,entropy)"
   ]
  },
  {
   "cell_type": "code",
   "execution_count": null,
   "metadata": {},
   "outputs": [],
   "source": []
  },
  {
   "cell_type": "code",
   "execution_count": 225,
   "metadata": {},
   "outputs": [],
   "source": [
    "def buildTree(filterdData,cFeatures,targetAttr=\"left\"):\n",
    "    #check if data is pure i.e all tuples have exact 1 type of label\n",
    "    if(len(np.unique(filterdData[targetAttr]))<=1):\n",
    "        print(\"hello= \",np.unique(filterdData[targetAttr])[0])\n",
    "        print(filterdData)\n",
    "        print(cFeatures)\n",
    "        return np.unique(filterdData[targetAttr])[0]\n",
    "    #check if all the categorical attributes had been used\n",
    "    elif(len(cFeatures)==0):\n",
    "        values,count=np.unique(filterdData[targetAttr],return_counts=True)\n",
    "#         print(values[np.argmax(count)])\n",
    "        return values[np.argmax(count)]\n",
    "    #else grow the tree for all possible value of best feature\n",
    "    #threby filtering the data on that value of best feature\n",
    "    else:\n",
    "        #find best feature\n",
    "        #remove best feature from local list of features(cFeatures) for now\n",
    "        #create a node with best feature and return it at the end\n",
    "        #execute a for loop for all possible value of best feature (filtering on this value), and create a branch on\n",
    "            #this value [best][value1] and receive the result of recursive call on this filtered data      \n",
    "        bestF=bestInfoGainFeature(filterdData,cFeatures, entropy)\n",
    "        node={bestF:{}}\n",
    "        cFeatures=[feature for feature in cFeatures if feature!=bestF]\n",
    "        for value in np.unique(filterdData[bestF]):\n",
    "            #filter new datatable based on best feature [value]\n",
    "#             print(bestF, value)\n",
    "            filteredData=data.where(data[bestF]==value).dropna()\n",
    "            node[bestF][value]=buildTree(filteredData,cFeatures)\n",
    "        \n",
    "    return node\n",
    "    \n",
    "tree=buildTree(data,cFeatures)\n",
    "\n"
   ]
  },
  {
   "cell_type": "code",
   "execution_count": 226,
   "metadata": {},
   "outputs": [
    {
     "name": "stdout",
     "output_type": "stream",
     "text": [
      "{'salary': {'high': {'sales': {'IT': {'Work_accident': {0.0: {'promotion_last_5years': {0.0: 0.0, 1.0: 0.0}}, 1.0: {'promotion_last_5years': {0.0: 0.0, 1.0: 0.0}}}}, 'RandD': {'Work_accident': {0.0: {'promotion_last_5years': {0.0: 0.0, 1.0: 0.0}}, 1.0: {'promotion_last_5years': {0.0: 0.0, 1.0: 0.0}}}}, 'accounting': {'Work_accident': {0.0: {'promotion_last_5years': {0.0: 0.0, 1.0: 0.0}}, 1.0: {'promotion_last_5years': {0.0: 0.0, 1.0: 0.0}}}}, 'hr': {'Work_accident': {0.0: {'promotion_last_5years': {0.0: 0.0, 1.0: 0.0}}, 1.0: {'promotion_last_5years': {0.0: 0.0, 1.0: 0.0}}}}, 'management': {'promotion_last_5years': {0.0: {'Work_accident': {0.0: 0.0, 1.0: 0.0}}, 1.0: {'Work_accident': {0.0: 0.0, 1.0: 0.0}}}}, 'marketing': {'Work_accident': {0.0: {'promotion_last_5years': {0.0: 0.0, 1.0: 0.0}}, 1.0: {'promotion_last_5years': {0.0: 0.0, 1.0: 0.0}}}}, 'product_mng': {'Work_accident': {0.0: {'promotion_last_5years': {0.0: 0.0, 1.0: 0.0}}, 1.0: {'promotion_last_5years': {0.0: 0.0, 1.0: 0.0}}}}, 'sales': {'Work_accident': {0.0: {'promotion_last_5years': {0.0: 0.0, 1.0: 0.0}}, 1.0: {'promotion_last_5years': {0.0: 0.0, 1.0: 0.0}}}}, 'support': {'Work_accident': {0.0: {'promotion_last_5years': {0.0: 0.0, 1.0: 0.0}}, 1.0: {'promotion_last_5years': {0.0: 0.0, 1.0: 0.0}}}}, 'technical': {'Work_accident': {0.0: {'promotion_last_5years': {0.0: 0.0, 1.0: 0.0}}, 1.0: {'promotion_last_5years': {0.0: 0.0, 1.0: 0.0}}}}}}, 'low': {'Work_accident': {0.0: {'sales': {'IT': {'promotion_last_5years': {0.0: 0.0, 1.0: 0.0}}, 'RandD': {'promotion_last_5years': {0.0: 0.0, 1.0: 0.0}}, 'accounting': {'promotion_last_5years': {0.0: 0.0, 1.0: 0.0}}, 'hr': {'promotion_last_5years': {0.0: 0.0, 1.0: 0.0}}, 'management': {'promotion_last_5years': {0.0: 0.0, 1.0: 0.0}}, 'marketing': {'promotion_last_5years': {0.0: 0.0, 1.0: 0.0}}, 'product_mng': {'promotion_last_5years': {0.0: 0.0}}, 'sales': {'promotion_last_5years': {0.0: 0.0, 1.0: 0.0}}, 'support': {'promotion_last_5years': {0.0: 0.0, 1.0: 0.0}}, 'technical': {'promotion_last_5years': {0.0: 0.0, 1.0: 0.0}}}}, 1.0: {'sales': {'IT': {'promotion_last_5years': {0.0: 0.0, 1.0: 0.0}}, 'RandD': {'promotion_last_5years': {0.0: 0.0, 1.0: 0.0}}, 'accounting': {'promotion_last_5years': {0.0: 0.0, 1.0: 0.0}}, 'hr': {'promotion_last_5years': {0.0: 0.0, 1.0: 0.0}}, 'management': {'promotion_last_5years': {0.0: 0.0, 1.0: 0.0}}, 'marketing': {'promotion_last_5years': {0.0: 0.0, 1.0: 0.0}}, 'product_mng': {'promotion_last_5years': {0.0: 0.0}}, 'sales': {'promotion_last_5years': {0.0: 0.0, 1.0: 0.0}}, 'support': {'promotion_last_5years': {0.0: 0.0, 1.0: 0.0}}, 'technical': {'promotion_last_5years': {0.0: 0.0, 1.0: 0.0}}}}}}, 'medium': {'Work_accident': {0.0: {'sales': {'IT': {'promotion_last_5years': {0.0: 0.0, 1.0: 0.0}}, 'RandD': {'promotion_last_5years': {0.0: 0.0, 1.0: 0.0}}, 'accounting': {'promotion_last_5years': {0.0: 0.0, 1.0: 0.0}}, 'hr': {'promotion_last_5years': {0.0: 0.0, 1.0: 0.0}}, 'management': {'promotion_last_5years': {0.0: 0.0, 1.0: 0.0}}, 'marketing': {'promotion_last_5years': {0.0: 0.0, 1.0: 0.0}}, 'product_mng': {'promotion_last_5years': {0.0: 0.0}}, 'sales': {'promotion_last_5years': {0.0: 0.0, 1.0: 0.0}}, 'support': {'promotion_last_5years': {0.0: 0.0, 1.0: 0.0}}, 'technical': {'promotion_last_5years': {0.0: 0.0, 1.0: 0.0}}}}, 1.0: {'sales': {'IT': {'promotion_last_5years': {0.0: 0.0, 1.0: 0.0}}, 'RandD': {'promotion_last_5years': {0.0: 0.0, 1.0: 0.0}}, 'accounting': {'promotion_last_5years': {0.0: 0.0, 1.0: 0.0}}, 'hr': {'promotion_last_5years': {0.0: 0.0, 1.0: 0.0}}, 'management': {'promotion_last_5years': {0.0: 0.0, 1.0: 0.0}}, 'marketing': {'promotion_last_5years': {0.0: 0.0, 1.0: 0.0}}, 'product_mng': {'promotion_last_5years': {0.0: 0.0}}, 'sales': {'promotion_last_5years': {0.0: 0.0, 1.0: 0.0}}, 'support': {'promotion_last_5years': {0.0: 0.0, 1.0: 0.0}}, 'technical': {'promotion_last_5years': {0.0: 0.0, 1.0: 0.0}}}}}}}}\n"
     ]
    }
   ],
   "source": [
    "print(tree)"
   ]
  }
 ],
 "metadata": {
  "kernelspec": {
   "display_name": "Python 3",
   "language": "python",
   "name": "python3"
  }
 },
 "nbformat": 4,
 "nbformat_minor": 2
}
